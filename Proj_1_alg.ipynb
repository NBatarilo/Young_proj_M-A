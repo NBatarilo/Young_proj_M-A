{
 "cells": [
  {
   "cell_type": "code",
   "execution_count": 1,
   "metadata": {},
   "outputs": [],
   "source": [
    "import pandas as pd\n",
    "import datetime as dt\n",
    "import numpy as np"
   ]
  },
  {
   "cell_type": "code",
   "execution_count": 2,
   "metadata": {},
   "outputs": [],
   "source": [
    "pd.options.display.float_format = '{:,.0f}'.format"
   ]
  },
  {
   "cell_type": "code",
   "execution_count": 3,
   "metadata": {},
   "outputs": [
    {
     "name": "stderr",
     "output_type": "stream",
     "text": [
      "/Users/nickbatarilo/anaconda3/envs/Young_proj_1/lib/python3.7/site-packages/IPython/core/interactiveshell.py:3049: DtypeWarning: Columns (10,11,29,32) have mixed types. Specify dtype option on import or set low_memory=False.\n",
      "  interactivity=interactivity, compiler=compiler, result=result)\n"
     ]
    }
   ],
   "source": [
    "df = pd.read_csv(\"Zephyr_data.csv\", encoding = 'mac_roman')\n"
   ]
  },
  {
   "cell_type": "code",
   "execution_count": 4,
   "metadata": {},
   "outputs": [],
   "source": [
    "cols = [10,11,29,32,27,28,29,30,31,26,33,25,24,23,22,21,20,19,17,15,14,13,12,11,10,9,8,7,1,3,5]\n",
    "df.drop(df.columns[cols],axis=1,inplace=True)"
   ]
  },
  {
   "cell_type": "code",
   "execution_count": 5,
   "metadata": {},
   "outputs": [],
   "source": [
    "df['year']=pd.to_datetime(df['Last deal status date'], format='%m/%d/%y').dt.year.fillna(0.0).astype(int)"
   ]
  },
  {
   "cell_type": "code",
   "execution_count": 6,
   "metadata": {},
   "outputs": [],
   "source": [
    "df.drop(df.columns[6],axis=1,inplace=True)\n",
    "df.drop(df.columns[0],axis=1,inplace=True)"
   ]
  },
  {
   "cell_type": "code",
   "execution_count": 7,
   "metadata": {},
   "outputs": [],
   "source": [
    "df.replace(\"n.a.\", np.nan, inplace=True)\n",
    "df.replace(0, np.nan, inplace=True)\n",
    "df= df.replace(\"-\",np.nan)\n"
   ]
  },
  {
   "cell_type": "code",
   "execution_count": 8,
   "metadata": {
    "scrolled": true
   },
   "outputs": [],
   "source": [
    "isrumor = (df['Deal status'] == \"Rumour - Withdrawn\") | (df['Deal status'] == \"Rumour\") | (df['Deal status'] == \"Rumour - Analyst Speculation\") | (df['Deal status'] == \"Unconditional\") | (df['Deal status'] == \"Postponed\") | (df['Deal status'] == \"Rumour - informal offer/non-binding\")          \n"
   ]
  },
  {
   "cell_type": "code",
   "execution_count": 9,
   "metadata": {},
   "outputs": [
    {
     "ename": "SyntaxError",
     "evalue": "invalid syntax (<ipython-input-9-71f11347ebfc>, line 1)",
     "output_type": "error",
     "traceback": [
      "\u001b[0;36m  File \u001b[0;32m\"<ipython-input-9-71f11347ebfc>\"\u001b[0;36m, line \u001b[0;32m1\u001b[0m\n\u001b[0;31m    df[]\u001b[0m\n\u001b[0m       ^\u001b[0m\n\u001b[0;31mSyntaxError\u001b[0m\u001b[0;31m:\u001b[0m invalid syntax\n"
     ]
    }
   ],
   "source": [
    "df.head()"
   ]
  },
  {
   "cell_type": "code",
   "execution_count": null,
   "metadata": {
    "collapsed": true,
    "scrolled": true
   },
   "outputs": [],
   "source": [
    "isnan = df['Deal status'].isnull()\n",
    "rumorbelownan = isnan.shift(-1) & isrumor\n",
    "notisnullbelownull = isnan.shift(1) & ~isnan\n",
    "rowtodelete = []"
   ]
  },
  {
   "cell_type": "code",
   "execution_count": null,
   "metadata": {
    "collapsed": true
   },
   "outputs": [],
   "source": [
    "for i, v in rumorbelownan.items():\n",
    "    if v == True:\n",
    "        rowtodelete.append(i)\n",
    "        for j, w in notisnullbelownull.iloc[i+1:].items():\n",
    "            if w == False:\n",
    "                rowtodelete.append(j)\n",
    "            elif w == True:\n",
    "                break"
   ]
  },
  {
   "cell_type": "code",
   "execution_count": null,
   "metadata": {
    "collapsed": true
   },
   "outputs": [],
   "source": [
    "df.drop(rowtodelete, axis=0, inplace=True)"
   ]
  },
  {
   "cell_type": "code",
   "execution_count": null,
   "metadata": {
    "collapsed": true
   },
   "outputs": [],
   "source": [
    "\n",
    "df = df[~((df['Deal status'] == \"Rumour - Withdrawn\") | (df['Deal status'] == \"Rumour\") | (df['Deal status'] == \"Rumour - Analyst Speculation\") | (df['Deal status'] == \"Unconditional\") | (df['Deal status'] == \"Postponed\") | (df['Deal status'] == \"Rumour - informal offer/non-binding\"))]      \n"
   ]
  },
  {
   "cell_type": "code",
   "execution_count": null,
   "metadata": {
    "collapsed": true
   },
   "outputs": [],
   "source": [
    "df.reset_index(inplace=True, level=None, drop=True)"
   ]
  },
  {
   "cell_type": "code",
   "execution_count": null,
   "metadata": {
    "collapsed": true
   },
   "outputs": [],
   "source": [
    "isrumor2 = (df['Deal status'] == \"Rumour - Expired\")\n",
    "isnan2 = df['Deal status'].isnull()\n",
    "rumorbelownan2 = isnan2.shift(-1) & isrumor2\n",
    "notisnullbelownull2 = isnan2.shift(1) & ~isnan2\n",
    "rowtodelete2 = []\n",
    "for i, v in rumorbelownan2.items():\n",
    "    if v == True:\n",
    "        rowtodelete2.append(i)\n",
    "        for j, w in notisnullbelownull2.iloc[i+1:].items():\n",
    "            if w == False:\n",
    "                rowtodelete2.append(j)\n",
    "            elif w == True:\n",
    "                break"
   ]
  },
  {
   "cell_type": "code",
   "execution_count": null,
   "metadata": {
    "collapsed": true
   },
   "outputs": [],
   "source": [
    "df.drop(rowtodelete2, axis=0, inplace=True)\n",
    "df = df[~(df['Deal status'] == \"Rumour - Expired\")]"
   ]
  },
  {
   "cell_type": "code",
   "execution_count": null,
   "metadata": {
    "collapsed": true,
    "scrolled": true
   },
   "outputs": [],
   "source": [
    "df.reset_index(inplace=True, level=None, drop=True)"
   ]
  },
  {
   "cell_type": "code",
   "execution_count": null,
   "metadata": {
    "collapsed": true,
    "scrolled": true
   },
   "outputs": [],
   "source": [
    "# Might seem useless but important for functional program\n",
    "df = df.copy()"
   ]
  },
  {
   "cell_type": "code",
   "execution_count": null,
   "metadata": {
    "collapsed": true
   },
   "outputs": [],
   "source": [
    "#Crucial that this line is after the nan count but before the data filling\n",
    "df.dropna(how='all', inplace=True)"
   ]
  },
  {
   "cell_type": "code",
   "execution_count": null,
   "metadata": {
    "collapsed": true,
    "scrolled": true
   },
   "outputs": [],
   "source": [
    "df[\"Acquiror country code\"].fillna(method = 'ffill', inplace=True) \n",
    "df[\"Deal status\"].fillna(method = 'ffill', inplace=True)\n",
    "df['year'].fillna(method = 'ffill', inplace = True)"
   ]
  },
  {
   "cell_type": "code",
   "execution_count": null,
   "metadata": {
    "collapsed": true,
    "scrolled": true
   },
   "outputs": [],
   "source": [
    "df['Acquiror GUO ISO country code'].fillna(df['Acquiror country code'], inplace=True)\n",
    "df['Target GUO ISO country code'].fillna(df['Target country code'], inplace=True)\n",
    "df['Target GUO ISO country code'].fillna(method = 'ffill', inplace = True)"
   ]
  },
  {
   "cell_type": "code",
   "execution_count": null,
   "metadata": {
    "collapsed": true
   },
   "outputs": [],
   "source": [
    "df.drop(df.columns[[0,1]],axis=1,inplace=True)"
   ]
  },
  {
   "cell_type": "code",
   "execution_count": null,
   "metadata": {
    "collapsed": true
   },
   "outputs": [],
   "source": [
    "deals = ['Announced', 'Completed', 'Completed Assumed', 'Pending', 'Withdrawn']\n",
    "deal_type = np.array(deals)\n",
    "target_country = df['Target GUO ISO country code'].unique().tolist()\n",
    "acquiror_country = df['Acquiror GUO ISO country code'].unique().tolist()\n",
    "years = [1997, 1998, 1999, 2000, 2001, 2002, 2003, 2004, 2005, 2006, 2007, 2008, 2009, \n",
    "         2010, 2011, 2012, 2013, 2014, 2015, 2016, 2017, 2018]\n",
    "year_range = np.array(years)"
   ]
  },
  {
   "cell_type": "code",
   "execution_count": null,
   "metadata": {
    "collapsed": true
   },
   "outputs": [],
   "source": [
    "df.replace(to_replace = 'Pending - awaiting regulatory approval', value = 'Pending', inplace=True)\n",
    "df.replace(to_replace = 'Pending - awaiting shareholder approval', value = 'Pending', inplace=True)"
   ]
  },
  {
   "cell_type": "code",
   "execution_count": null,
   "metadata": {
    "collapsed": true
   },
   "outputs": [],
   "source": [
    "f = open('output.csv', 'w+')\n",
    "s = \"year, ccode1, ccode2, deal_announce, deal_complete, deal_complete_assumed, deal_pend, deal_withdrawn, total\"\n",
    "f.write(s+\"\\n\")"
   ]
  },
  {
   "cell_type": "code",
   "execution_count": null,
   "metadata": {
    "collapsed": true,
    "scrolled": true
   },
   "outputs": [],
   "source": [
    "seperator = ', '\n",
    "for a in acquiror_country:\n",
    "    for t in target_country:\n",
    "        for y in years:\n",
    "            total = 0\n",
    "            f.write(str(y) + seperator)\n",
    "            f.write(a + seperator)\n",
    "            f.write(t + seperator)\n",
    "            for d in deals:\n",
    "                temp_df = (df['Deal status'] == d) & (df['Acquiror GUO ISO country code'] == a) & (df['Target GUO ISO country code'] == t) & (df['year'] == y)\n",
    "                count = np.count_nonzero(temp_df)\n",
    "                f.write(str(count) + seperator)\n",
    "                total += count\n",
    "                \n",
    "            f.write(str(total) + \"\\n\")                \n",
    "                "
   ]
  },
  {
   "cell_type": "code",
   "execution_count": null,
   "metadata": {
    "collapsed": true
   },
   "outputs": [],
   "source": [
    "f.close()"
   ]
  }
 ],
 "metadata": {
  "kernelspec": {
   "display_name": "Python 3",
   "language": "python",
   "name": "python3"
  },
  "language_info": {
   "codemirror_mode": {
    "name": "ipython",
    "version": 3
   },
   "file_extension": ".py",
   "mimetype": "text/x-python",
   "name": "python",
   "nbconvert_exporter": "python",
   "pygments_lexer": "ipython3",
   "version": "3.7.1"
  }
 },
 "nbformat": 4,
 "nbformat_minor": 2
}
